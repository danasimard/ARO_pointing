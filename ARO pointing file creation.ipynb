{
 "cells": [
  {
   "cell_type": "markdown",
   "metadata": {},
   "source": [
    "## Example of generating a pointing script for observations with the ARO 46-m\n",
    "\n",
    "A few things to keep in mind: \n",
    "* ARO slews at ~7-8 deg per minute\n",
    "* Start tracking your source ~30 sec before you want good data to prevent oscillations\n",
    "* For steady slewing, you should have one entry in the pointing script per second\n",
    "* ARO can slew clockwise from 41 degrees, through 360 degrees, to 51 degrees.\n",
    "* The script does not allow you to specify the direction of slews - if you are near the cable wrap, explain how you need to slew to the operator."
   ]
  },
  {
   "cell_type": "code",
   "execution_count": 1,
   "metadata": {},
   "outputs": [],
   "source": [
    "import pandas\n",
    "import numpy as np\n",
    "import matplotlib.pyplot as plt\n",
    "%matplotlib inline\n",
    "\n",
    "import astropy.units as u\n",
    "from astropy.time import Time\n",
    "from astropy.coordinates import SkyCoord, EarthLocation, AltAz"
   ]
  },
  {
   "cell_type": "code",
   "execution_count": 2,
   "metadata": {},
   "outputs": [],
   "source": [
    "def append_to_fazel_file(file,times,az,alt):\n",
    "    \"\"\"Writes pointing commands to the fazel file.\n",
    "    Parameters:\n",
    "    -----------\n",
    "    file:  open file handler\n",
    "    times: Array of Astropy Times\n",
    "    az:    Array of Astropy Quantities, angles, azimuth pointing at each time\n",
    "    alt:   Array of Astropy Quantities, angles, altitude pointing at each time\n",
    "    \"\"\"\n",
    "    for i in np.arange(len(times)):\n",
    "        f.write( times[i].yday.replace(':','.',2) + \" \" \n",
    "                +  az[i].to_string(sep=' ') + \" 0.1 \" \n",
    "                + alt[i].to_string(sep=' ') + \" 0.4 \\n\")"
   ]
  },
  {
   "cell_type": "code",
   "execution_count": 3,
   "metadata": {},
   "outputs": [],
   "source": [
    "def account_for_offsets(altazs,daz0=-3.25*u.deg,dalt0=-3.45*u.deg,alt0=11.90*u.deg):\n",
    "    \"\"\"Calculates where the prime axis of the telescope must point in order to account for the\n",
    "    offsets of the off-axis feed from the prime axis.\n",
    "    Parameters:\n",
    "    -----------\n",
    "    altazs: Astropy SkyCoord, the location of your target source.\n",
    "    daz0:   Astropy quantity (angle), azimuth offset.  Default is CHIME off-axis feed 2018 offsets.\n",
    "    dalt0:  Astropy quantity (angle), altitude offset. Default is CHIME off-axis feed 2018 offsets.\n",
    "    alt0:   Astropy quantity (angle), altitude pointing when azimuth offset measured. \n",
    "            Default is CHIME off-axis feed 2018 offsets.\n",
    "    Returns:\n",
    "    -----------\n",
    "    az_off:  Astropy quantity (angle), the azimuth pointing that will \n",
    "             cause the off-axis feed to be pointing on target.\n",
    "    alt_off: Astropy quantity (angle), the altitude pointing that will\n",
    "             cause the off-axis feed to be pointing on target.\n",
    "    \"\"\"\n",
    "    daz      = daz0*np.cos(alt0)/np.cos(altazs.alt)\n",
    "    alt_off  = altazs.alt + dalt0\n",
    "    az_off   = (altazs.az + daz)%(360.*u.deg)\n",
    "    return az_off,alt_off"
   ]
  },
  {
   "cell_type": "markdown",
   "metadata": {},
   "source": [
    "Set the observatory location and the date of observations."
   ]
  },
  {
   "cell_type": "code",
   "execution_count": 4,
   "metadata": {},
   "outputs": [],
   "source": [
    "ARO = EarthLocation(lat=45.95550333*u.deg, lon=-78.073040402778*u.deg, height=260.4*u.m)\n",
    "date = '2018-12-06' \n",
    "midnight = Time(date+'T00:00:00')"
   ]
  },
  {
   "cell_type": "markdown",
   "metadata": {},
   "source": [
    "Read in the observation plan and coordinates from csv files."
   ]
  },
  {
   "cell_type": "code",
   "execution_count": 5,
   "metadata": {},
   "outputs": [],
   "source": [
    "df = pandas.read_csv('planning.csv', \n",
    "            header=0, \n",
    "            names=['source', 'type','start_time', 'stop_time'])"
   ]
  },
  {
   "cell_type": "code",
   "execution_count": 6,
   "metadata": {},
   "outputs": [
    {
     "data": {
      "text/html": [
       "<div>\n",
       "<style scoped>\n",
       "    .dataframe tbody tr th:only-of-type {\n",
       "        vertical-align: middle;\n",
       "    }\n",
       "\n",
       "    .dataframe tbody tr th {\n",
       "        vertical-align: top;\n",
       "    }\n",
       "\n",
       "    .dataframe thead th {\n",
       "        text-align: right;\n",
       "    }\n",
       "</style>\n",
       "<table border=\"1\" class=\"dataframe\">\n",
       "  <thead>\n",
       "    <tr style=\"text-align: right;\">\n",
       "      <th></th>\n",
       "      <th>source</th>\n",
       "      <th>type</th>\n",
       "      <th>start_time</th>\n",
       "      <th>stop_time</th>\n",
       "    </tr>\n",
       "  </thead>\n",
       "  <tbody>\n",
       "    <tr>\n",
       "      <th>0</th>\n",
       "      <td>B0329+54</td>\n",
       "      <td>PSR</td>\n",
       "      <td>1:25 AM</td>\n",
       "      <td>1:30 AM</td>\n",
       "    </tr>\n",
       "    <tr>\n",
       "      <th>1</th>\n",
       "      <td>J0347+5557</td>\n",
       "      <td>CAL</td>\n",
       "      <td>1:33 AM</td>\n",
       "      <td>1:38 AM</td>\n",
       "    </tr>\n",
       "    <tr>\n",
       "      <th>2</th>\n",
       "      <td>B0329+54</td>\n",
       "      <td>PSR</td>\n",
       "      <td>1:40 AM</td>\n",
       "      <td>1:45 AM</td>\n",
       "    </tr>\n",
       "    <tr>\n",
       "      <th>3</th>\n",
       "      <td>J0347+5557</td>\n",
       "      <td>CAL</td>\n",
       "      <td>1:48 AM</td>\n",
       "      <td>1:53 AM</td>\n",
       "    </tr>\n",
       "  </tbody>\n",
       "</table>\n",
       "</div>"
      ],
      "text/plain": [
       "       source type start_time stop_time\n",
       "0    B0329+54  PSR    1:25 AM   1:30 AM\n",
       "1  J0347+5557  CAL    1:33 AM   1:38 AM\n",
       "2    B0329+54  PSR    1:40 AM   1:45 AM\n",
       "3  J0347+5557  CAL    1:48 AM   1:53 AM"
      ]
     },
     "execution_count": 6,
     "metadata": {},
     "output_type": "execute_result"
    }
   ],
   "source": [
    "df"
   ]
  },
  {
   "cell_type": "code",
   "execution_count": 7,
   "metadata": {},
   "outputs": [],
   "source": [
    "coor = pandas.read_csv('coordinates.csv',\n",
    "                      header=0,\n",
    "                      index_col='source',\n",
    "                      names=['source','ra','dec'])\n",
    "coor = coor.drop_duplicates()"
   ]
  },
  {
   "cell_type": "markdown",
   "metadata": {},
   "source": [
    "Create astropy SkyCoord and Time objects from the source coordinates and start and stop times."
   ]
  },
  {
   "cell_type": "code",
   "execution_count": 8,
   "metadata": {},
   "outputs": [],
   "source": [
    "sources = []\n",
    "start_times = []\n",
    "stop_times = []\n",
    "for i in range(df.shape[0]):\n",
    "    sources += [SkyCoord(ra=coor['ra'][df['source'][i]].astype(float)*u.deg,\n",
    "                         dec=coor['dec'][df['source'][i]].astype(float)*u.deg)]\n",
    "    start_times += [Time(date+'T0'+df['start_time'][i].split()[0]+':00')+5*u.h]\n",
    "    stop_times  += [Time(date+'T0'+df['stop_time'][i].split()[0]+':00')+5*u.h]"
   ]
  },
  {
   "cell_type": "code",
   "execution_count": 9,
   "metadata": {},
   "outputs": [],
   "source": [
    "# Get on source ~10 minutes early for the first observation.\n",
    "start_time = start_times[0] - 10*u.min"
   ]
  },
  {
   "cell_type": "markdown",
   "metadata": {},
   "source": [
    "### Take a look at the observation plan"
   ]
  },
  {
   "cell_type": "code",
   "execution_count": 10,
   "metadata": {},
   "outputs": [
    {
     "data": {
      "text/plain": [
       "<matplotlib.legend.Legend at 0x151430b2b0>"
      ]
     },
     "execution_count": 10,
     "metadata": {},
     "output_type": "execute_result"
    },
    {
     "data": {
      "image/png": "[encoded data removed]",
      "text/plain": [
       "<matplotlib.figure.Figure at 0x151430b2e8>"
      ]
     },
     "metadata": {},
     "output_type": "display_data"
    }
   ],
   "source": [
    "fig,ax = plt.subplots(1,2,sharex=True,figsize=(16,6))\n",
    "for i in range(df.shape[0]):\n",
    "    ax[0].plot(np.arange((start_times[i]-midnight).to(u.h).value,(stop_times[i]-midnight).to(u.h).value,1/60),\n",
    "               sources[i].transform_to(AltAz(obstime=np.arange(start_times[i],stop_times[i],1/60*u.h),\n",
    "                                             location=ARO)).alt,label=df['source'][i])\n",
    "    ax[1].plot(np.arange((start_times[i]-midnight).to(u.h).value,(stop_times[i]-midnight).to(u.h).value,1/60),\n",
    "               sources[i].transform_to(AltAz(obstime=np.arange(start_times[i],stop_times[i],1/60*u.h),\n",
    "                                             location=ARO)).az,label=df['source'][i])\n",
    "ax[0].set_ylabel('Altitude (deg)')\n",
    "ax[1].set_ylabel('Azimuth (deg)')\n",
    "ax[0].set_xlabel('Hours past UTC midnight')\n",
    "ax[1].set_xlabel('Hours past UTC midnight')\n",
    "\n",
    "ax[0].legend(loc='lower left',ncol=2)\n",
    "    \n",
    "    "
   ]
  },
  {
   "cell_type": "markdown",
   "metadata": {},
   "source": [
    "### Write Fazel File"
   ]
  },
  {
   "cell_type": "code",
   "execution_count": 11,
   "metadata": {},
   "outputs": [],
   "source": [
    "f = open('example_fazel.txt','w')\n",
    "f.write(\"# Example fazel file\\n\")\n",
    "for i in range(df.shape[0]):\n",
    "    if i==0:\n",
    "        times = np.arange(start_time,stop_times[i],1*u.s)\n",
    "    else:\n",
    "        times = np.arange(stop_times[i-1]+1*u.s,stop_times[i],1*u.s)\n",
    "    frames = AltAz(obstime=times,location=ARO)\n",
    "    altazs = sources[i].transform_to(frames)\n",
    "    az,alt = account_for_offsets(altazs)\n",
    "    append_to_fazel_file(f,times,az,alt)\n",
    "f.close()"
   ]
  },
  {
   "cell_type": "markdown",
   "metadata": {},
   "source": [
    "### Check Fazel File"
   ]
  },
  {
   "cell_type": "code",
   "execution_count": 12,
   "metadata": {},
   "outputs": [],
   "source": [
    "fazel = np.loadtxt('example_fazel.txt',skiprows=1,dtype=str)"
   ]
  },
  {
   "cell_type": "code",
   "execution_count": 14,
   "metadata": {},
   "outputs": [
    {
     "data": {
      "image/png": "[encoded data removed]",
      "text/plain": [
       "<matplotlib.figure.Figure at 0x150a88b2e8>"
      ]
     },
     "metadata": {},
     "output_type": "display_data"
    }
   ],
   "source": [
    "fig,ax = plt.subplots(1,2,sharex=True,figsize=(16,6))\n",
    "for i in range(df.shape[0]):\n",
    "    ax[0].plot(np.arange((start_times[i]-midnight).to(u.h).value,(stop_times[i]-midnight).to(u.h).value,1/60),\n",
    "               sources[i].transform_to(AltAz(obstime=np.arange(start_times[i],stop_times[i],1/60*u.h),\n",
    "                                             location=ARO)).alt,label=df['source'][i])\n",
    "    ax[1].plot(np.arange((start_times[i]-midnight).to(u.h).value,(stop_times[i]-midnight).to(u.h).value,1/60),\n",
    "               sources[i].transform_to(AltAz(obstime=np.arange(start_times[i],stop_times[i],1/60*u.h),\n",
    "                                             location=ARO)).az,label=df['source'][i])\n",
    "ax[0].set_ylabel('Altitude (deg)')\n",
    "ax[1].set_ylabel('Azimuth (deg)')\n",
    "ax[0].set_xlabel('Hours past UTC midnight')\n",
    "ax[1].set_xlabel('Hours past UTC midnight')\n",
    "\n",
    "ax[0].legend(loc='lower left',ncol=2)\n",
    "\n",
    "for i in range(0,fazel.shape[0],60):\n",
    "    ax[1].scatter((Time(fazel[i][0].replace('.',':',2))-midnight).to(u.h).value,\n",
    "               (fazel[i][1].astype(float)*u.deg + fazel[i][2].astype(float)*u.arcmin + \n",
    "                fazel[i][3].astype(float)*u.arcsec).to(u.deg),\n",
    "              color='black',s=2)\n",
    "    ax[0].scatter((Time(fazel[i][0].replace('.',':',2))-midnight).to(u.h).value,\n",
    "              (fazel[i][5].astype(float)*u.deg + fazel[i][6].astype(float)*u.arcmin + \n",
    "               fazel[i][7].astype(float)*u.arcsec).to(u.deg),\n",
    "              color='black',s=2)"
   ]
  },
  {
   "cell_type": "code",
   "execution_count": null,
   "metadata": {},
   "outputs": [],
   "source": []
  }
 ],
 "metadata": {
  "anaconda-cloud": {},
  "kernelspec": {
   "display_name": "Python [conda root]",
   "language": "python",
   "name": "conda-root-py"
  },
  "language_info": {
   "codemirror_mode": {
    "name": "ipython",
    "version": 3
   },
   "file_extension": ".py",
   "mimetype": "text/x-python",
   "name": "python",
   "nbconvert_exporter": "python",
   "pygments_lexer": "ipython3",
   "version": "3.5.2"
  }
 },
 "nbformat": 4,
 "nbformat_minor": 1
}
